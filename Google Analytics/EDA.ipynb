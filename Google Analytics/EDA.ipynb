{
  "nbformat": 4,
  "nbformat_minor": 0,
  "metadata": {
    "colab": {
      "provenance": []
    },
    "kernelspec": {
      "name": "python3",
      "display_name": "Python 3"
    },
    "language_info": {
      "name": "python"
    }
  },
  "cells": [
    {
      "cell_type": "markdown",
      "source": [
        "<h1 align=\"center\">Análisis exploratorio de datos</h1>\n",
        "\n",
        "<p align=\"justify\">Un análisis exploratorio de datos (EDA, por sus siglas en inglés) es un proceso utilizado para analizar y entender los datos de un conjunto de datos. El objetivo principal del EDA es descubrir patrones, tendencias y relaciones en los datos que puedan ser útiles para informar una investigación o estudio. </p>\n",
        "\n",
        "<p align=\"justify\">El EDA se realiza antes de iniciar el análisis formal y se basa en la visualización de los datos, para poder obtener una idea general de la distribución de los mismos y conocer los posibles valores atípicos. También se utilizan estadísticas resumen para conocer las características generales de la población. </p>\n",
        "\n",
        "<p align=\"justify\">El EDA es importante porque permite detectar problemas en los datos, tales como valores atípicos, errores en la recolección de datos, y problemas de sesgo, así como para identificar patrones interesantes en los datos que pueden informar el diseño de estudios futuros. Es un proceso iterativo, y se debe continuar explorando los datos mientras se van obteniendo nuevos hallazgos.</p>\n",
        "\n"
      ],
      "metadata": {
        "id": "_uMloSDAxygf"
      }
    },
    {
      "cell_type": "markdown",
      "source": [
        "<h1 align=\"center\">¿Cómo es el comportamiento del publico objetivo del sitio web <a href='https://www.goingbilingual.com/' title=\"Pagina web de Going Bilingual \" target=\"_blank\"> Going Bilingual</a> ?</h1>\n",
        "\n",
        "<p align=\"justify\">Google Analytics ofrece varias métricas que pueden ayudar a identificar el público objetivo de un sitio web. Algunas de las métricas más comunes son:</p>\n",
        "\n",
        "<ol align=\"justify\">\n",
        "  <li>Audiencia: esta métrica proporciona información sobre el número de visitantes únicos, las páginas vistas, el tiempo de permanencia en el sitio y el porcentaje de rebote. Esta información puede ayudar a identificar el tamaño y el comportamiento del público.</li>\n",
        "  <li>Demografía: esta métrica proporciona información sobre la edad, el género, el idioma y la ubicación geográfica de los visitantes del sitio. Esta información puede ayudar a identificar las características demográficas de la audiencia.</li>\n",
        "  <li>Intereses: esta métrica proporciona información sobre los intereses y las aficiones de los visitantes del sitio, como el tipo de contenido que prefieren, las marcas que siguen, etc. Esta información puede ayudar a identificar los intereses y las preferencias de la audiencia.</li>\n",
        "  <li>Adquisición: esta métrica proporciona información sobre cómo los visitantes llegan al sitio, como los motores de búsqueda, las redes sociales, las campañas publicitarias, etc. Esta información puede ayudar a identificar las fuentes de tráfico y a entender cómo los visitantes interactúan con el sitio.</li>\n",
        "  <li>Comportamiento: esta métrica proporciona información sobre cómo los visitantes interactúan con el sitio, como las páginas vistas, el tiempo de permanencia en el sitio, las acciones de los visitantes, etc.</li>\n",
        "</ol>\n",
        "\n",
        "<p align=\"justify\">Google Analytics ofrece varias dimensiones que pueden ayudar a identificar el público objetivo de un sitio web. Algunas de las dimensiones más comunes son:</p>\n",
        "\n",
        "\n",
        "<ol align=\"justify\">\n",
        "  <li>Usuario: esta dimensión proporciona información sobre el número de visitantes únicos y los visitantes recurrentes. Esta información puede ayudar a identificar el tamaño y el comportamiento del público.</li>\n",
        "  <li>Adquisición: esta dimensión proporciona información sobre cómo los visitantes llegan al sitio, como los motores de búsqueda, las redes sociales, las campañas publicitarias, etc. Esta información puede ayudar a identificar las fuentes de tráfico y a entender cómo los visitantes interactúan con el sitio.</li> \n",
        "  <li>Adquisición: esta dimensión proporciona información sobre cómo los visitantes llegan al sitio, como los motores de búsqueda, las redes sociales, las campañas publicitarias, etc. Esta información puede ayudar a identificar las fuentes de tráfico y a entender cómo los visitantes interactúan con el sitio.</li>\n",
        "  <li>Adquisición: esta dimensión proporciona información sobre cómo los visitantes llegan al sitio, como los motores de búsqueda, las redes sociales, las campañas publicitarias, etc. Esta información puede ayudar a identificar las fuentes de tráfico y a entender cómo los visitantes interactúan con el sitio.</li>\n",
        "  <li>Geografía: esta dimensión proporciona información sobre la ubicación geográfica de los visitantes, como el país, la región y la ciudad. Esta información puede ayudar a identificar las características geográficas de la audiencia y a entender cómo se relaciona con el tráfico del sitio.</li>\n",
        "</ol>\n"
      ],
      "metadata": {
        "id": "w-7PzyV-72Sm"
      }
    },
    {
      "cell_type": "code",
      "execution_count": null,
      "metadata": {
        "colab": {
          "base_uri": "https://localhost:8080/"
        },
        "id": "HSIsg4j5xxpC",
        "outputId": "4a126f04-567a-42be-b2c9-3fc10404a4db"
      },
      "outputs": [
        {
          "output_type": "stream",
          "name": "stdout",
          "text": [
            "Drive already mounted at /content/gdrive; to attempt to forcibly remount, call drive.mount(\"/content/gdrive\", force_remount=True).\n"
          ]
        }
      ],
      "source": [
        "from google.colab import drive\n",
        "import os\n",
        "drive.mount('/content/gdrive')\n",
        "# Establecer ruta de acceso en drive\n",
        "os.chdir(\"/content/gdrive/My Drive\")"
      ]
    },
    {
      "cell_type": "code",
      "source": [
        "%cd '/content/gdrive/MyDrive/Documentación de trabajo en desarrollo/Trabajo de felipe/Analitica de datos CG'"
      ],
      "metadata": {
        "colab": {
          "base_uri": "https://localhost:8080/"
        },
        "id": "3J1XdY-9KuJv",
        "outputId": "53fb3055-4bf7-40ef-8f39-2debd3798fd2"
      },
      "execution_count": null,
      "outputs": [
        {
          "output_type": "stream",
          "name": "stdout",
          "text": [
            "/content/gdrive/MyDrive/Documentación de trabajo en desarrollo/Trabajo de felipe/Analitica de datos CG\n"
          ]
        }
      ]
    },
    {
      "cell_type": "code",
      "source": [
        "from apiclient.discovery import build\n",
        "from oauth2client.service_account import ServiceAccountCredentials\n",
        "import matplotlib.pyplot as plt \n",
        "import pandas as pd\n",
        "import os"
      ],
      "metadata": {
        "id": "mEK7by5jLAwJ"
      },
      "execution_count": null,
      "outputs": []
    },
    {
      "cell_type": "code",
      "source": [
        "# Construir el objeto de servicio.\n",
        "SCOPES = ['https://www.googleapis.com/auth/analytics.readonly']\n",
        "KEY_FILE_LOCATION = 'gaapiaccessforpython-1d2e02237dfd.json'\n",
        "credentials = ServiceAccountCredentials.from_json_keyfile_name(\n",
        "    KEY_FILE_LOCATION, SCOPES)\n",
        "service = build('analytics', 'v3', credentials=credentials)"
      ],
      "metadata": {
        "id": "npefvY-PLIR8"
      },
      "execution_count": null,
      "outputs": []
    },
    {
      "cell_type": "code",
      "source": [
        "# Establecer el ID de la vista de Google Analytics\n",
        "view_id = '195738696'\n",
        "\n",
        "# Establecer el período de tiempo para recuperar los datos\n",
        "start_date = '2023-01-01'\n",
        "end_date = 'today'\n",
        "\n",
        "# Realizar una llamada a la API de Google Analytics para recuperar los datos de la audiencia\n",
        "results = service.data().ga().get(\n",
        "    ids='ga:' + view_id,\n",
        "    start_date=start_date,\n",
        "    end_date=end_date,\n",
        "    metrics='ga:users,ga:pageviews,ga:sessionDuration,ga:bounceRate',\n",
        "    dimensions='ga:date'\n",
        ").execute()"
      ],
      "metadata": {
        "id": "EnVsoenBLMkW"
      },
      "execution_count": null,
      "outputs": []
    },
    {
      "cell_type": "code",
      "source": [
        "# Procesar los datos recuperados utilizando pandas\n",
        "data = results.get('rows', [])\n",
        "df = pd.DataFrame.from_records(data, columns=['date', 'users', \n",
        "                    'pageviews', 'sessionDuration', 'bounceRate'])\n",
        "\n",
        "# Convertir la columna 'date' en una fecha\n",
        "df['date'] = pd.to_datetime(df['date'])\n",
        "\n",
        "df = df.astype({'users':float,'pageviews':float,'sessionDuration':float,'bounceRate':float})\n",
        "\n",
        "# Convertir los datos de la columna 'sessionDuration' en minutos\n",
        "df['sessionDuration'] = df['sessionDuration'].div(60)"
      ],
      "metadata": {
        "id": "noL7_f_gLYAh"
      },
      "execution_count": null,
      "outputs": []
    },
    {
      "cell_type": "code",
      "source": [
        "print(df)"
      ],
      "metadata": {
        "colab": {
          "base_uri": "https://localhost:8080/"
        },
        "id": "GnHfdIz7AjrF",
        "outputId": "f36a10cf-4ef2-46c8-8cbf-3ea183f2e27d"
      },
      "execution_count": null,
      "outputs": [
        {
          "output_type": "stream",
          "name": "stdout",
          "text": [
            "         date  users  pageviews  sessionDuration  bounceRate\n",
            "0  2023-01-01    1.0        1.0         0.200000    0.000000\n",
            "1  2023-01-02    0.0        0.0         0.000000    0.000000\n",
            "2  2023-01-03    6.0       20.0        17.066667   33.333333\n",
            "3  2023-01-04    2.0        3.0         0.033333   66.666667\n",
            "4  2023-01-05    0.0        0.0         0.000000    0.000000\n",
            "5  2023-01-06    8.0       27.0        39.616667   27.272727\n",
            "6  2023-01-07    7.0       18.0        11.500000   25.000000\n",
            "7  2023-01-08    4.0       17.0        10.500000    0.000000\n",
            "8  2023-01-09    5.0       16.0         5.100000   40.000000\n",
            "9  2023-01-10    8.0       18.0        14.416667   44.444444\n",
            "10 2023-01-11   12.0       33.0        14.266667   53.333333\n",
            "11 2023-01-12   12.0       27.0        27.983333   30.769231\n",
            "12 2023-01-13    8.0       28.0         8.133333   12.500000\n",
            "13 2023-01-14    7.0       13.0        15.166667   44.444444\n",
            "14 2023-01-15    3.0       10.0         3.100000   33.333333\n",
            "15 2023-01-16    2.0        5.0        11.666667   33.333333\n",
            "16 2023-01-17    6.0        8.0         1.983333   33.333333\n",
            "17 2023-01-18    4.0        8.0        19.383333   50.000000\n",
            "18 2023-01-19    7.0       17.0         6.150000   14.285714\n",
            "19 2023-01-20    5.0       14.0         9.800000   20.000000\n",
            "20 2023-01-21    4.0        9.0        13.366667    0.000000\n",
            "21 2023-01-22    5.0        7.0         1.850000   40.000000\n",
            "22 2023-01-23    1.0        1.0         0.000000  100.000000\n"
          ]
        }
      ]
    },
    {
      "cell_type": "code",
      "source": [
        "#Podemos ver estadísticas básicas del dataframe\n",
        "print(df.describe())"
      ],
      "metadata": {
        "colab": {
          "base_uri": "https://localhost:8080/"
        },
        "id": "6X_t8THlplE6",
        "outputId": "b789faaa-cb4d-49b1-e187-f5bae503eda8"
      },
      "execution_count": null,
      "outputs": [
        {
          "output_type": "stream",
          "name": "stdout",
          "text": [
            "           users  pageviews  sessionDuration  bounceRate\n",
            "count  23.000000  23.000000        23.000000   23.000000\n",
            "mean    5.086957  13.043478        10.055797   30.523908\n",
            "std     3.342740   9.674137         9.852340   24.337142\n",
            "min     0.000000   0.000000         0.000000    0.000000\n",
            "25%     2.500000   6.000000         1.916667   13.392857\n",
            "50%     5.000000  13.000000         9.800000   33.333333\n",
            "75%     7.000000  18.000000        14.341667   42.222222\n",
            "max    12.000000  33.000000        39.616667  100.000000\n"
          ]
        }
      ]
    },
    {
      "cell_type": "code",
      "source": [
        "#Podemos visualizar la evolución de las visitas a lo largo del tiempo\n",
        "plt.plot(df['date'], df['users'])\n",
        "plt.xlabel('Fecha')\n",
        "plt.ylabel('Numero de Usuarios')\n",
        "plt.title('Evolución de las visitas')\n",
        "plt.xticks(rotation=90)\n",
        "plt.show()"
      ],
      "metadata": {
        "colab": {
          "base_uri": "https://localhost:8080/",
          "height": 343
        },
        "id": "1LoOwnbxqwQI",
        "outputId": "a6d93a85-a45c-47b6-9c57-939685725364"
      },
      "execution_count": null,
      "outputs": [
        {
          "output_type": "display_data",
          "data": {
            "text/plain": [
              "<Figure size 432x288 with 1 Axes>"
            ],
            "image/png": "[encoded data removed]"
          },
          "metadata": {
            "needs_background": "light"
          }
        }
      ]
    },
    {
      "cell_type": "code",
      "source": [
        "# Crear el histograma\n",
        "plt.hist(df['sessionDuration'], bins=10, edgecolor='black')\n",
        "plt.xlabel('Duración de la sesión (minutos)')\n",
        "plt.ylabel('Frecuencia')\n",
        "plt.title('Histograma de la duración de las sesiones')\n",
        "plt.show()"
      ],
      "metadata": {
        "colab": {
          "base_uri": "https://localhost:8080/",
          "height": 295
        },
        "id": "N0qxFoTL4nDX",
        "outputId": "13685fea-be92-4b42-e08b-375a6ceacc39"
      },
      "execution_count": null,
      "outputs": [
        {
          "output_type": "display_data",
          "data": {
            "text/plain": [
              "<Figure size 432x288 with 1 Axes>"
            ],
            "image/png": "[encoded data removed]"
          },
          "metadata": {
            "needs_background": "light"
          }
        }
      ]
    },
    {
      "cell_type": "code",
      "source": [
        "#Podemos hacer un histograma de los datos de rebote\n",
        "plt.hist(df['bounceRate'], bins=10, edgecolor='black')\n",
        "plt.xlabel('Porcentaje de Rebote')\n",
        "plt.ylabel('Numero de visitas')\n",
        "plt.title('Histograma de Rebote')\n",
        "plt.show()"
      ],
      "metadata": {
        "colab": {
          "base_uri": "https://localhost:8080/",
          "height": 295
        },
        "id": "lzUM91JZsQ2Y",
        "outputId": "803d5949-12de-4360-8dde-01f57e0ed546"
      },
      "execution_count": null,
      "outputs": [
        {
          "output_type": "display_data",
          "data": {
            "text/plain": [
              "<Figure size 432x288 with 1 Axes>"
            ],
            "image/png": "[encoded data removed]"
          },
          "metadata": {
            "needs_background": "light"
          }
        }
      ]
    },
    {
      "cell_type": "markdown",
      "source": [
        "<h1 align=\"center\">Conclusiones</h1>\n",
        "\n",
        "<ol align=\"justify\">\n",
        "  <li>En primer lugar, podemos observar que el número de usuarios que visitan el sitio web ha aumentado 08-01-2023 y 15-01-2023.</li>\n",
        "  <li>A partir del 05-01-2023, no se observa una disminución significativa en el tráfico de la página web, lo que sugiere una estabilidad en la cantidad de visitantes.</li>\n",
        "  <li>En el análisis de los datos, se puede observar que el número mínimo de visitas a la página web se registró el día 05-01-2023.</li>\n",
        "  <li>El tiempo de duración mas frecuente de los usuarios en la pagina web es de 0 a 5 minutos, lo cual sugiere que la mayoría de los usuarios navegan brevemente en el sitio.</li>\n",
        "  <li>El tiempo de permanencia promedio de los usuarios en el sitio web se encuentra en el rango de 4 a 20 minutos.</li>\n",
        "  <li>Se ha observado un patrón en el cual existen personas que han permanecido en el sitio web por un período de tiempo considerablemente mayor al promedio, lo que sugiere que estas visitas pueden ser consideradas como atípicas.</li>\n",
        "  <li>La asimetria de la metrica \"porcentaje de rebote\" es posistiva, lo que sugiere que los usuarios están encontrando el contenido relevante y están interactuando con él, lo que se traduce en un tiempo de permanencia prolongado en el sitio web.</li>\n",
        "</ol>\n",
        "\n",
        "\n",
        "\n"
      ],
      "metadata": {
        "id": "r8q4YrcP5tyT"
      }
    }
  ]
}